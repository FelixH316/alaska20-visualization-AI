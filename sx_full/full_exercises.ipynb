{
 "cells": [
  {
   "cell_type": "markdown",
   "id": "4c8946ca",
   "metadata": {},
   "source": [
    "### *1 Prompt - 08 Ajustando el prompt*\n",
    "Juan desea concatenar las bases en una sola, manteniendo solo las columnas con el año, el estado, la región, el PIB, los impuestos líquidos, el valor agregado y el valor agregado de la agropecuaria. Así, Juan creó el siguiente prompt:\n",
    "Crea un código que concatene las bases “pib_estados” y “va_estados” en una única tabla por año y estado, manteniendo las columnas con el año, el estado, la región, el PIB, los impuestos líquidos, el valor agregado y el valor agregado de la agropecuaria."
   ]
  },
  {
   "cell_type": "markdown",
   "id": "f6fa6ba0",
   "metadata": {},
   "source": [
    "### *1 Prompt - 10 Desafío: Zoop Pay*"
   ]
  },
  {
   "cell_type": "code",
   "execution_count": null,
   "id": "932e02df",
   "metadata": {},
   "outputs": [],
   "source": [
    "url_clientes = \"https://gist.githubusercontent.com/ahcamachod/d08898e1cc84c7271856e78d9558ca3d/raw/2f7e1fa53711efe6433a5c5ec79948f600591cb9/clientes_zoop.csv\"\n",
    "url_ventas = \"https://gist.githubusercontent.com/ahcamachod/966d7162a3c3a2769b8770b35abf1bcc/raw/d79941b3fa46a450f3611589abd8663399c1277b/ventas_zoop.csv\"\n",
    "url_zoop_pay = \"https://gist.githubusercontent.com/ahcamachod/ce728231a836a973c0df94a9f03ed871/raw/8db6da43d7cd94fcab937208067d0fceb521b78c/zoop_pay.csv\""
   ]
  },
  {
   "cell_type": "markdown",
   "id": "8bd9707d",
   "metadata": {},
   "source": [
    "#### *Instructor*"
   ]
  },
  {
   "cell_type": "code",
   "execution_count": null,
   "id": "e6cc7755",
   "metadata": {},
   "outputs": [],
   "source": [
    "[\"ID_compra\", \"fecha\", \"hora\", \"categoría\", \"precio_unitario\", \"cantidad\", \"envio\", \"metodo_pago\", \"ID_cliente\", \"edad\", \"sexo_biologico\", \"ciudad\", \"estado\", \"region\", \"cashback\", \"nota\"]"
   ]
  },
  {
   "cell_type": "code",
   "execution_count": null,
   "id": "9af74dd0",
   "metadata": {},
   "outputs": [],
   "source": [
    "import pandas as pd\n",
    "\n",
    "# Ejemplo de cómo cargar los DataFrames, si es necesario:\n",
    "# ventas = pd.read_csv('ruta_al_archivo_de_ventas.csv')\n",
    "# clientes = pd.read_csv('ruta_al_archivo_de_clientes.csv')\n",
    "\n",
    "# Uniendo las bases \"ventas\" y \"clientes\" usando la columna \"ID_compra\" como clave\n",
    "df = pd.merge(ventas, clientes, on=\"ID_compra\")\n",
    "\n",
    "# Organizando las columnas en la secuencia especificada\n",
    "columnas_ordenadas = [\"ID_compra\", \"fecha\", \"hora\", \"categoría\", \"precio_unitario\", \"cantidad\", \"envio\", \"metodo_pago\", \"ID_cliente\", \"edad\", \"sexo_biologico\", \"ciudad\", \"estado\", \"region\", \"cashback\", \"nota\"]\n",
    "\n",
    "df = df[columnas_ordenadas]\n",
    "\n",
    "# Mostrando las primeras filas del DataFrame resultante para verificación\n",
    "df.head()"
   ]
  },
  {
   "cell_type": "code",
   "execution_count": null,
   "id": "89f44401",
   "metadata": {},
   "outputs": [],
   "source": [
    "import pandas as pd\n",
    "\n",
    "# Sustituye url_zoop_pay por la URL real proporcionada para la base zoop_pay\n",
    "zoop_pay = pd.read_csv(url_zoop_pay)\n",
    "\n",
    "# Uniendo el DataFrame df con la base zoop_pay utilizando la columna \"ID_cliente\"\n",
    "df = pd.merge(df, zoop_pay, on=\"ID_cliente\")\n",
    "\n",
    "# Ajustando la columna \"fecha\" al formato datetime\n",
    "df['fecha'] = pd.to_datetime(df['fecha'], format='%Y-%m-%d')\n",
    "\n",
    "# Mostrando las primeras filas del DataFrame resultante para verificación\n",
    "df.head()"
   ]
  },
  {
   "cell_type": "markdown",
   "id": "d91cb2dd",
   "metadata": {},
   "source": [
    "### *2 Visualizando - 07 Respuesta del prompt*\n",
    "\n",
    "panini.csv\n",
    "    https://gist.githubusercontent.com/ahcamachod/c1cef14e116881abab3239822ebe610a/raw/1ba8ff2bb1d5849e5451be125295167dcc3563eb/panini.csv"
   ]
  },
  {
   "cell_type": "code",
   "execution_count": null,
   "id": "5f1b1c46",
   "metadata": {},
   "outputs": [],
   "source": [
    "# CORRECTO A\n",
    "import matplotlib.pyplot as plt\n",
    "\n",
    "df_panini = df[df['producto'] == 'Panini']\n",
    "df_panini['fecha'] = pd.to_datetime(df_panini['fecha'], format='%Y-%m-%d')\n",
    "ventas_por_mes = df_panini.groupby(df_panini['fecha'].dt.to_period('M'))['valor'].sum()\n",
    "plt.figure(figsize=(10, 6))\n",
    "plt.plot(ventas_por_mes.index.to_timestamp(), ventas_por_mes, marker='o', linestyle='-')\n",
    "plt.title('Ventas mensuales de Panini')\n",
    "plt.xlabel('Mes')\n",
    "plt.ylabel('Total de ventas')\n",
    "plt.xticks(ventas_por_mes.index.to_timestamp(), [x.strftime('%b %Y') for x in ventas_por_mes.index.to_timestamp()], rotation=45)\n",
    "plt.grid(True)\n",
    "plt.tight_layout()\n",
    "plt.show()"
   ]
  },
  {
   "cell_type": "code",
   "execution_count": null,
   "id": "76440f8c",
   "metadata": {},
   "outputs": [],
   "source": [
    "# MALO B\n",
    "import matplotlib.pyplot as plt\n",
    "\n",
    "ventas_por_mes = df.groupby(df['fecha'].dt.to_period('M'))['valor'].sum()\n",
    "plt.figure(figsize=(10, 6))\n",
    "plt.barh(ventas_por_mes, width = ventas_por_mes.index.to_timestamp())\n",
    "plt.title('Ventas mensuales de Panini')\n",
    "plt.xlabel('Mes')\n",
    "plt.ylabel('Total de ventas')\n",
    "plt.yticks(ventas_por_mes.index.to_timestamp(), [y.strftime('%b %Y') for y in ventas_por_mes.index.to_timestamp()], rotation=45)\n",
    "plt.grid(True)\n",
    "plt.tight_layout()\n",
    "plt.show()"
   ]
  },
  {
   "cell_type": "code",
   "execution_count": null,
   "id": "950799fb",
   "metadata": {},
   "outputs": [],
   "source": [
    "# MALO C\n",
    "import matplotlib.pyplot as plt\n",
    "\n",
    "df_panini = df[df['producto'] == 'Panini']\n",
    "ventas_por_mes = df_panini.groupby(df_panini['fecha'].dt.to_period('M'))['valor'].sum()\n",
    "\n",
    "plt.figure(figsize=(10, 6))\n",
    "plt.bar(ventas_por_mes.index.to_timestamp(), ventas_por_mes, width=10)\n",
    "plt.title('Ventas mensuales de Panini')\n",
    "plt.xlabel('Mes')\n",
    "plt.ylabel('Total de ventas')\n",
    "plt.xticks(ventas_por_mes.index.to_timestamp(), [x.strftime('%b %Y') for x in ventas_por_mes.index.to_timestamp()], rotation=45)\n",
    "plt.grid(True)\n",
    "plt.tight_layout()\n",
    "plt.show()"
   ]
  },
  {
   "cell_type": "code",
   "execution_count": null,
   "id": "000cbbc0",
   "metadata": {},
   "outputs": [],
   "source": [
    "# MALO D\n",
    "import matplotlib.pyplot as plt\n",
    "\n",
    "ventas_por_mes = df.groupby(df['fecha'].dt.to_period('M'))['valor'].sum()\n",
    "plt.figure(figsize=(10, 6))\n",
    "plt.plot(ventas_por_mes.index.to_timestamp(), ventas_por_mes, marker='o', linestyle='-')\n",
    "plt.title('Ventas mensuales de Panini')\n",
    "plt.xlabel('Mes')\n",
    "plt.ylabel('Total de ventas')\n",
    "plt.xticks(ventas_por_mes.index.to_timestamp(), [x.strftime('%b %Y') for x in ventas_por_mes.index.to_timestamp()], rotation=45)\n",
    "plt.grid(True)\n",
    "plt.tight_layout()\n",
    "plt.show()"
   ]
  },
  {
   "cell_type": "markdown",
   "id": "e9b512ae",
   "metadata": {},
   "source": [
    "### *2 Visualizando 08 Haga lo que hicimos*"
   ]
  },
  {
   "cell_type": "code",
   "execution_count": null,
   "id": "18782b3d",
   "metadata": {},
   "outputs": [],
   "source": [
    "import pandas as pd\n",
    "import matplotlib.pyplot as plt\n",
    "\n",
    "df['facturacion'] = (df['precio_unitario'] * df['cantidad']) + df['envio']\n",
    "df['trimestre'] = df['fecha'].dt.to_period('Q')\n",
    "# Suponiendo que ya tienes el DataFrame df\n",
    "# Filtrar las categorías deseadas\n",
    "categorias_deseadas = [\"Papelería y oficina\", \"Libros\", \"Alimentos y bebidas\"]\n",
    "df_filtrado = df[df['categoria'].isin(categorias_deseadas)]\n",
    "# Pivotar los datos para tener los trimestres como índice y las categorías como columnas\n",
    "pivot_df = df_filtrado.pivot_table(index='trimestre', columns='categoria', values='facturacion', aggfunc='sum')\n",
    "# Crear el gráfico de columnas agrupadas\n",
    "pivot_df.plot(kind='bar', stacked=False, figsize=(10, 6))\n",
    "# Agregar etiquetas y título\n",
    "plt.xlabel('Trimestre')\n",
    "plt.ylabel('Ventas')\n",
    "plt.title('Ventas por Trimestre y Categoría')\n",
    "plt.xticks(rotation=45)  # Rotar las etiquetas del eje x para mejorar la legibilidad\n",
    "# Mostrar el gráfico\n",
    "plt.legend(title='Categoría')\n",
    "plt.tight_layout()\n",
    "plt.show()"
   ]
  },
  {
   "cell_type": "markdown",
   "id": "1f593e44",
   "metadata": {},
   "source": [
    "### *2 Visualizando - 09 Desafío: generando visualizaciones con respecto a la localización*"
   ]
  },
  {
   "cell_type": "markdown",
   "id": "e708ab7b",
   "metadata": {},
   "source": [
    "¿Vamos a practicar lo que aprendimos a partir del DataFrame df que generamos en el ejercicio de Manos a la Obra anterior?\n",
    "\n",
    "Has recibido una nueva demanda de Zoop para generar 2 nuevos visuales, uno relacionado con el perfil de las ventas y el otro con el perfil de los clientes de una región específica. Vamos a observar las dos situaciones y construir, con la ayuda de ChatGPT, los dos gráficos solicitados:\n",
    "\n",
    "Desafío 1:\n",
    "\n",
    "Construye y ejecuta un prompt en ChatGPT para generar, a partir de nuestra base de datos, un visual que muestre el facturación de las ventas por región. Recuerda que aquí la facturación se calcula multiplicando el valor unitario por la cantidad comprada y sumando el costo de envío.\n",
    "\n",
    "Desafío 2:\n",
    "\n",
    "Zoop quiere realizar una campaña en los estados de México y Puebla, por lo que necesita conocer el perfil de su público según el sexo biológico. Construye y ejecuta un prompt en ChatGPT para generar, a partir de nuestra base de datos, un visual que muestre la composición del público por sexo biológico en los estados de México y Puebla. Recuerda pedir que agrupe o apile los datos para la presentación.\n",
    "\n",
    "Si necesitas ayuda, una opción de solución de la actividad estará disponible en la sección “Opinión del instructor”."
   ]
  },
  {
   "cell_type": "markdown",
   "id": "9abe10de",
   "metadata": {},
   "source": [
    "#### *Instructor*\n",
    "Existen diversas formas de solucionar esta actividad. A continuación, presentamos una sugerencia de solución para cada problema.\n",
    "\n",
    "Es importante destacar que, incluso utilizando los prompts sugeridos, el resultado puede variar un poco debido a la aleatoriedad de las IAs generativas cuando utilices tu cuenta.\n",
    "\n",
    "Podemos utilizar el siguiente prompt para la resolución del 1º desafío:"
   ]
  },
  {
   "cell_type": "code",
   "execution_count": null,
   "id": "61776a1b",
   "metadata": {},
   "outputs": [],
   "source": [
    "Tenemos un DataFrame llamado \"df\" y queremos construir una visualización de gráfico de columnas que presente la facturación por región de Zoop.\n",
    "En \"df\", tenemos las siguientes columnas:\n",
    "- region: región del/de la cliente\n",
    "- precio_unitario: precio de una unidad del producto\n",
    "- cantidad: cantidad vendida del producto\n",
    "- envio: el valor del envío a ser pago en el total de la compra.\n",
    "Deseamos crear una visualización que presente la facturación de cada región, donde la facturación se calcula multiplicando el precio unitario por la cantidad y sumando el envío.\n",
    "Utiliza las bibliotecas de visualización de datos de Python para crear esta visualización."
   ]
  },
  {
   "cell_type": "code",
   "execution_count": null,
   "id": "4522d19e",
   "metadata": {},
   "outputs": [],
   "source": [
    "import pandas as pd\n",
    "import matplotlib.pyplot as plt\n",
    "\n",
    "# Suponiendo que df sea tu DataFrame\n",
    "# Calcula la facturación para cada transacción\n",
    "df['facturacion'] = (df['precio_unitario'] * df['cantidad']) + df['envio']\n",
    "\n",
    "# Agrupa los datos por región y suma la facturación\n",
    "facturacion_por_region = df.groupby('region')['facturacion'].sum().reset_index()\n",
    "\n",
    "# Ordena el resultado para una mejor visualización\n",
    "facturacion_por_region = facturacion_por_region.sort_values(by='facturacion', ascending=False)\n",
    "\n",
    "# Creación del gráfico de columnas\n",
    "plt.figure(figsize=(10, 6))  # Ajusta el tamaño del gráfico\n",
    "plt.bar(facturacion_por_region['region'], facturacion_por_region['facturacion'], color='skyblue')  # Grafica barras\n",
    "plt.title('Facturación por Región')  # Añade título al gráfico\n",
    "plt.xlabel('Región')  # Añade etiqueta al eje X\n",
    "plt.ylabel('Facturación')  # Añade etiqueta al eje Y\n",
    "plt.show()  # Muestra el gráfico"
   ]
  },
  {
   "cell_type": "markdown",
   "id": "0fb6928f",
   "metadata": {},
   "source": [
    "Podemos observar que ChatGPT generó un gráfico interesante, aunque sea la 1ª versión, todavía sin instrucciones para ajustar el visual. En este gráfico, tenemos la facturación por región en el año 2023, en orden descendente.\n",
    "\n",
    "Ahora, vamos al 2º desafío, donde necesitamos generar una visualización que muestre el público por sexo biológico en los estados de México y Puebla. Podemos utilizar el siguiente prompt para la resolución de estos procesos:"
   ]
  },
  {
   "cell_type": "code",
   "execution_count": null,
   "id": "71fd8423",
   "metadata": {},
   "outputs": [],
   "source": [
    "Tenemos un DataFrame llamado \"df\" y queremos construir un gráfico de columnas apiladas que presente la cantidad de personas por sexo biológico en relación con los estados de \"México\" y \"Puebla\".\n",
    "\n",
    "En \"df\", tenemos las siguientes columnas:\n",
    "\n",
    "- estado: estado del/de la cliente. Utilizaremos únicamente los estados de \"México\" y \"Puebla\"\n",
    "- sexo_biologico: sexo biológico del/de la cliente\n",
    "\n",
    "Deseamos crear una visualización que presente la cantidad de personas agrupadas por sexo biológico en los estados que definimos.\n",
    "\n",
    "Utiliza las bibliotecas de visualización de datos de Python para crear esta visualización."
   ]
  },
  {
   "cell_type": "code",
   "execution_count": null,
   "id": "443c3d72",
   "metadata": {},
   "outputs": [],
   "source": [
    "import pandas as pd\n",
    "import matplotlib.pyplot as plt\n",
    "\n",
    "# Filtrar el DataFrame para incluir solo los estados de \"México\" y \"Puebla\"\n",
    "df_filtrado = df[df['estado'].isin(['Estado de México', 'Puebla'])]\n",
    "\n",
    "# Contar la cantidad de personas por sexo biológico y estado\n",
    "contagem_por_sexo_e_estado = df_filtrado.groupby(['estado', 'sexo_biologico']).size().unstack(fill_value=0)\n",
    "\n",
    "# Crear el gráfico de columnas apiladas\n",
    "contagem_por_sexo_e_estado.plot(kind='bar', stacked=True, figsize=(10, 6))\n",
    "\n",
    "# Añadir título y etiquetas a los ejes\n",
    "plt.title('Cantidad de Personas por Sexo Biológico en los estados de México y Puebla')\n",
    "plt.xlabel('Estado')\n",
    "plt.ylabel('Cantidad de Personas')\n",
    "plt.xticks(rotation=0)  # Mantén las etiquetas de los estados en horizontal para mejor legibilidad\n",
    "\n",
    "# Mostrar la leyenda y el gráfico\n",
    "plt.legend(title='Sexo Biológico')\n",
    "plt.show()"
   ]
  },
  {
   "cell_type": "markdown",
   "id": "82002d50",
   "metadata": {},
   "source": [
    "### *3 Generando - 09 Desafío: perfil de los clientes*\n",
    "Volviendo a nuestro proyecto de Manos a la Obra, logramos generar dos visualizaciones más con los datos de nuestros desafíos.\n",
    "\n",
    "¿Ahora, vamos a crear otros visuales enfocados en el perfil de nuestros clientes?\n",
    "\n",
    "Has recibido una nueva solicitud de Zoop para generar 2 visuales, siendo uno de ellos relacionado al registro de clientes para un nuevo servicio que Zoop implementará, el Zoop Pay, y el otro sobre las evaluaciones de los clientes en relación con su ubicación. Observemos las dos situaciones y construyamos con la ayuda de ChatGPT los dos gráficos solicitados:\n",
    "\n",
    "Desafío 1:\n",
    "\n",
    "Zoop está en proceso de lanzamiento de su billetera digital, que brindará acceso a una serie de beneficios para sus clientes, y le gustaría saber cuál es el porcentaje de personas que ya están pre-registradas para este producto. El e-commerce busca comprender este número para definir la necesidad de promoción y esfuerzo para atraer más clientes a esta funcionalidad.\n",
    "\n",
    "Construye y ejecuta un prompt en ChatGPT para generar, a partir de nuestra base de datos, un visual que presente la proporción de personas pre-registradas en Zoop Pay.\n",
    "\n",
    "Desafío 2:\n",
    "\n",
    "Zoop quiere analizar la distribución de las edades de los clientes por región con el fin de delinear una \"persona\" (perfil) de su clientela en diferentes localidades del país, y para ello, solicitó un visual que distribuya estos datos. Construye y ejecuta un prompt en ChatGPT para generar, a partir de nuestra base de datos, un visual que muestre la distribución de las edades de los clientes por región.\n",
    "\n",
    "Si necesitas ayuda, una opción de solución de la actividad estará disponible en la sección \"Opinión del instructor\"."
   ]
  },
  {
   "cell_type": "markdown",
   "id": "c1292b0e",
   "metadata": {},
   "source": [
    "#### *Instructor*\n",
    "Existen diversas formas de solucionar esta actividad. A continuación, presentamos una sugerencia de solución para cada problema.\n",
    "\n",
    "Es importante destacar que, incluso utilizando los prompts sugeridos, el resultado puede variar un poco debido a la aleatoriedad de las IAs generativas cuando utilices tu cuenta.\n",
    "\n",
    "Podemos utilizar el siguiente prompt para la resolución del 1º desafío:\n",
    "\n",
    "\"\"\" Tenemos un DataFrame llamado \"df\" y queremos construir una visualización que presente la proporción de los(as) usuarios(as) que realizaron el pre-registro en Zoop Pay, la nueva solución de Zoop.\n",
    "\n",
    "En \"df\", tenemos la columna \"zoop_pay\" que contiene estos datos. Construye un gráfico de dona donde el valor \"Sí\" reciba el color #2a9d8f y \"No\" el color #edede9.\n",
    "\n",
    "Utiliza las bibliotecas de visualización de datos de Python para crear esta visualización. \"\"\"\n",
    "\n",
    "Utilizando la respuesta de ChatGPT, obtenemos el siguiente código:"
   ]
  },
  {
   "cell_type": "code",
   "execution_count": null,
   "id": "eae0ec09",
   "metadata": {},
   "outputs": [],
   "source": [
    "import pandas as pd\n",
    "import matplotlib.pyplot as plt\n",
    "\n",
    "# Contabiliza la cantidad de usuarios que realizaron el pre-registro en Zoop Pay\n",
    "pre_registro_counts = df['zoop_pay'].value_counts()\n",
    "\n",
    "# Define los colores para cada valor\n",
    "colors = ['#2a9d8f' if valor == 'Sí' else '#edede9' for valor in pre_registro_counts.index]\n",
    "\n",
    "# Crea el gráfico de dona\n",
    "plt.figure(figsize=(8, 6))\n",
    "plt.pie(pre_registro_counts, labels=pre_registro_counts.index, autopct='%1.1f%%', startangle=140, colors=colors, wedgeprops=dict(width=0.3))\n",
    "\n",
    "# Añade un título al gráfico\n",
    "plt.title('Proporción de Pre-registro en Zoop Pay')\n",
    "\n",
    "# Muestra el gráfico\n",
    "plt.show()"
   ]
  },
  {
   "cell_type": "markdown",
   "id": "4c3ca5d4",
   "metadata": {},
   "source": [
    "El gráfico generado muestra que menos de ¼ de los clientes que realizaron compras en 2023 en Zoop están registrados para participar en Zoop Pay. Puede ser interesante investigar el perfil de los clientes que aún no han realizado el registro, en situaciones como edad, forma de pago, región de residencia, entre otros.\n",
    "\n",
    "Ahora, vamos al 2º desafío, en el que necesitamos generar una visualización que muestre el perfil de los clientes por edad y región. Podemos utilizar el siguiente prompt para la resolución de estos procesos:\n",
    "\n",
    "\"\"\" Tenemos un DataFrame llamado \"df\" y queremos construir una visualización que muestre la distribución de las edades de los(as) clientes por región.\n",
    "\n",
    "En \"df\", tenemos las siguientes columnas:\n",
    "\n",
    "region: región de la persona que realizó la compra.\n",
    "\n",
    "edad: edad de la persona que realizó la compra.\n",
    "\n",
    "Deseamos crear una visualización de boxplot que presente la distribución de estos datos. Coloca las edades en el eje x y las regiones en el eje y.\n",
    "\n",
    "Utiliza las bibliotecas de visualización de datos de Python para crear esta visualización. \"\"\"\n",
    "\n",
    "Utilizando la respuesta de ChatGPT, obtenemos el siguiente código:"
   ]
  },
  {
   "cell_type": "code",
   "execution_count": null,
   "id": "9d249402",
   "metadata": {},
   "outputs": [],
   "source": [
    "import pandas as pd\n",
    "import seaborn as sns\n",
    "import matplotlib.pyplot as plt\n",
    "\n",
    "# Creación del boxplot\n",
    "plt.figure(figsize=(12, 8))  # Define el tamaño del gráfico\n",
    "boxplot = sns.boxplot(x='edad', y='region', data=df, palette=\"colorblind\")  # Crea el boxplot\n",
    "\n",
    "# Añade títulos y etiquetas a los ejes\n",
    "plt.title('Distribución de las Edades de los Clientes por Región')  # Título del gráfico\n",
    "plt.xlabel('Edad')  # Etiqueta del eje X\n",
    "plt.ylabel('Región')  # Etiqueta del eje Y\n",
    "\n",
    "# Muestra el gráfico\n",
    "plt.show()"
   ]
  },
  {
   "cell_type": "markdown",
   "id": "66167f8f",
   "metadata": {},
   "source": [
    "Este gráfico nos ofrece algunos insights interesantes. Por ejemplo, en las regiones Sur y Centro tenemos clientes con la mayor mediana de edad en comparación con otras, mientras que en la región Centro-Sur hay una mayor concentración de mediana de edad de clientes más jóvenes en relación a todas las regiones de México.\n",
    "\n",
    "La práctica es siempre muy importante para afianzar el contenido. Utilizar IAs para apoyar en el análisis de datos ayuda mucho a optimizar el tiempo en la construcción del código y puede generar ideas que contribuyan en tu proceso de análisis exploratorio de datos. Sin embargo, recuerda que es muy importante analizar las respuestas generadas por las IAs generativas para investigar si lo que se ha presentado tiene sentido y si realmente resuelve el problema que estás enfrentando.\n",
    "\n",
    "Compartir tus conocimientos y las prácticas que has estado desarrollando en este aspecto es importante para tu crecimiento en la carrera de datos. Por lo tanto, realiza los ejercicios propuestos y observa cómo esto puede ayudarte a progresar en tus habilidades de análisis de datos con IAs.\n",
    "\n",
    "Si tienes alguna duda, puedes usar el foro o el Discord de Alura."
   ]
  },
  {
   "cell_type": "markdown",
   "id": "cad50746",
   "metadata": {},
   "source": [
    "### *4 Storytelling - 11 Desafío: refinando las visualizaciones*\n",
    "Zoop ha seleccionado 2 de los visuales creados para formar parte del informe con la narración de datos de la empresa. Se ha definido que se utilizarán los visuales con el facturamiento por región en 2023 y el de personas pre-registradas en Zoop Pay. Refinaremos ambos visuales siguiendo las instrucciones a continuación y la paleta de colores de la e-commerce, alterándolos con la ayuda de ChatGPT:\n",
    "\n",
    "Desafío 1:\n",
    "\n",
    "Construye y ejecuta un prompt en ChatGPT para refinar el visual que presenta el facturamiento de las ventas por región. Las instrucciones para el refinamiento son las siguientes:\n",
    "\n",
    "Fondo de la figura y del área del gráfico en el color GRIS_1\n",
    "Color de las columnas en AQUA_1 (si deseas destacar solo una, puedes recurrir a AQUA_3, por ejemplo)\n",
    "Tamaño de la figura de (16,9)\n",
    "Cambia el título de la figura a un tamaño de 18 y color GRIS_5, ajusta las etiquetas y rótulos del eje x e y, cuando existan, a un tamaño 12 y color AZUL_1\n",
    "Elimina el máximo de bordes posible y ajusta los datos para que se presenten en las barras en orden de millones, con color AZUL_1 y tamaño 12\n",
    "Observación 1: Todas las variables que representan los colores en las instrucciones están en una celda en la pestaña Paleta de Colores dentro del notebook Desafíos de la Clase 04.\n",
    "\n",
    "Observación 2: Es probable que al ejecutar los prompts, ChatGPT sugiera colores para las variables y modificaciones en los códigos que llaman al DataFrame deseado. Presta mucha atención para eliminar la nueva definición de colores y ajustar el DataFrame según lo que has hecho en actividades anteriores.\n",
    "\n",
    "Desafío 2:\n",
    "\n",
    "Construye y ejecuta un prompt en ChatGPT para refinar el visual que presenta la proporción de personas pre-registradas en Zoop Pay. Las instrucciones para el refinamiento son las siguientes:\n",
    "\n",
    "Fondo de la figura y del área del gráfico en el color GRIS_1.\n",
    "Color de las porciones: AZUL_1 para \"Sí\" y GRIS_3 para \"No\".\n",
    "Tamaño de la figura de (6,6).\n",
    "Cambia el título de la figura a un tamaño de 18 y color GRIS_5.\n",
    "Añade etiquetas en las porciones con tamaño 12 y los porcentajes también con tamaño 12 y en negrita. Los porcentajes deben estar en color BLANCO y las etiquetas de las porciones en el mismo color que las porciones.\n",
    "Ajusta la rosca para que su ancho sea de 0.4 y los porcentajes de las porciones estén en la posición 0.8 en relación al centro.\n",
    "Evita explosiones de porciones y efectos que dificulten el análisis del gráfico.\n",
    "Si necesitas ayuda, habrá una opción de solución disponible en la sección \"Opinión del instructor/a\"."
   ]
  },
  {
   "cell_type": "markdown",
   "id": "c24570b9",
   "metadata": {},
   "source": [
    "#### *Instructor*\n",
    "Existen diversas maneras de solucionar esta actividad. A continuación presentamos una sugerencia de solución para cada problema.\n",
    "\n",
    "Es importante destacar que, aunque se utilicen los prompts sugeridos, el resultado puede variar un poco debido a la aleatoriedad de las IAs generativas cuando uses tu cuenta.\n",
    "\n",
    "Podemos utilizar el siguiente prompt para la resolución del 1º desafío:\n",
    "\n",
    "Vamos a refinar el gráfico que hicimos de facturación por región. Debe seguir la identidad visual de Zoop, con el fondo de la figura y del gráfico en color GRIS_1, las columnas en color AQUA_1, y el tamaño de la figura debe ser de (16, 9).\n",
    "\n",
    "El título de la figura será \"Facturación por Región en 2023\" con tamaño 18 y su color GRIS_5.\n",
    "\n",
    "Las etiquetas del eje y (yticks) deben ser eliminadas, así como las etiquetas de los ejes x e y (xlabel y ylabel). Las etiquetas del eje X (xticks) deben tener un tamaño de 12 con el color AZUL_1. Retira todas las bordes del gráfico. Muestra el total de cada facturación encima de cada columna en el formato \"MXN$ valor M\", con el valor dividido por 1 millón (1e6) y con un decimal. El texto debe ser de color AZUL_1 y tamaño 12.\n",
    "\n",
    "Usa las bibliotecas de visualización de datos de Python para crear esta visualización.\n",
    "\n",
    "Utilizando la respuesta de ChatGPT, obtenemos el siguiente código:"
   ]
  },
  {
   "cell_type": "code",
   "execution_count": null,
   "id": "96ff6e32",
   "metadata": {},
   "outputs": [],
   "source": [
    "import matplotlib.pyplot as plt\n",
    "\n",
    "# Ejemplo de datos agrupados por región y suma de la facturación\n",
    "# facturacion_por_region = df.groupby('region')['facturacion'].sum().reset_index()\n",
    "\n",
    "# Ordenación de los datos para una mejor visualización (suponiendo que los datos ya estén preparados)\n",
    "# facturacion_por_region = facturacion_por_region.sort_values(by='facturacion', ascending=False)\n",
    "\n",
    "# Configuraciones generales de la figura\n",
    "plt.figure(figsize=(16, 9), facecolor=GRIS_1)\n",
    "plt.gca().set_facecolor(GRIS_1)  # Configuración del fondo del gráfico\n",
    "\n",
    "# Creación del gráfico de columnas\n",
    "plt.bar(facturacion_por_region['region'], facturacion_por_region['facturacion'] / 1e6, color=AQUA_1)\n",
    "plt.title('Facturación por Región en 2023', color=GRIS_5, fontsize=18)\n",
    "plt.yticks([])  # Eliminación de las etiquetas del eje y\n",
    "plt.ylabel('')  # Eliminación de la etiqueta del eje y\n",
    "plt.xticks(fontsize=12, color=AZUL_1)\n",
    "plt.box(False)  # Eliminación de los bordes del gráfico\n",
    "\n",
    "# Añade el total de la facturación encima de cada columna\n",
    "for index, value in enumerate(facturacion_por_region['facturacion']):\n",
    "    plt.text(index, value / 1e6 + 0.1, f'MXN$ {value / 1e6:.1f}M', color=AZUL_1, ha='center', fontsize=12)\n",
    "\n",
    "# Muestra el gráfico\n",
    "plt.show()"
   ]
  },
  {
   "cell_type": "markdown",
   "id": "56be3e4e",
   "metadata": {},
   "source": [
    "El gráfico generado muestra que las regiones Centro y Noroeste tienen las mayores facturaciones de Zoop en relación con las otras regiones de México en 2023. Podría ser interesante añadir alguna interpretación de este dato o destacar algún punto para guiar la lectura de la imagen.\n",
    "\n",
    "Ahora, vamos al 2º desafío, en el que necesitamos mejorar un gráfico que muestra la proporción de personas registradas en Zoop Pay. Podemos utilizar el siguiente prompt para refinar la visualización:\n",
    "\n",
    "Vamos a refinar el gráfico de rosquilla que producimos para mostrar la proporción de usuarios que realizaron el prerregistro en Zoop Pay.\n",
    "\n",
    "Nuestro gráfico debe seguir la identidad visual de Zoop, con el fondo de la figura y del gráfico en color GRIS_1, la porción con valor \"No\" en color GRIS_3 y la porción con valor \"Sí\" en color AZUL_3. El tamaño de la figura será de (6, 6).\n",
    "\n",
    "El título de la figura será \"¿Prerregistrado(a) en Zoop Pay?\" con tamaño 18 y color GRIS_5.\n",
    "\n",
    "Las etiquetas de las porciones deben tener el mismo color que las porciones y un tamaño de 12. Los porcentajes deben estar en color BLANCO, en negrita, y con un tamaño de 12.\n",
    "\n",
    "La propiedad del ancho de la rosquilla (wedgeprops) debe ser de 0.4, la posición de los porcentajes dentro de la porción (pctdistance) debe ser de 0.8, el ángulo de inicio debe ser de 180 (startangle) y no debe haber explosión de porciones.\n",
    "\n",
    "Usa las bibliotecas de visualización de datos de Python para crear esta visualización.\n",
    "\n",
    "Utilizando la respuesta de ChatGPT, obtenemos el siguiente código:"
   ]
  },
  {
   "cell_type": "code",
   "execution_count": null,
   "id": "d1cfce79",
   "metadata": {},
   "outputs": [],
   "source": [
    "import matplotlib.pyplot as plt\n",
    "\n",
    "# Contabiliza la cantidad de usuarios que realizaron el prerregistro en Zoop Pay\n",
    "pre_registro_counts = df['zoop_pay'].value_counts()\n",
    "\n",
    "# Define los colores para cada valor\n",
    "colors = [AZUL_3 if label == 'Sí' else GRIS_3 for label in pre_registro_counts.index]\n",
    "\n",
    "# Crea el gráfico de rosquilla\n",
    "plt.figure(figsize=(6, 6), facecolor=GRIS_1)\n",
    "plt.gca().set_facecolor(GRIS_1)  # Cambia el color del fondo del gráfico\n",
    "patches, texts, autotexts = plt.pie(pre_registro_counts, labels=pre_registro_counts.index, autopct='%1.1f%%', startangle=180, colors=colors, wedgeprops=dict(width=0.4), pctdistance=0.8)\n",
    "\n",
    "# Añade el título con el color y tamaño especificados\n",
    "plt.title('¿Pre-registrado(a) en Zoop Pay?', color=GRIS_5, fontsize=18)\n",
    "\n",
    "# Configura los colores y tamaños de las etiquetas de las porciones y porcentajes\n",
    "for text, autotext, color in zip(texts, autotexts, [GRIS_3, AZUL_3]):\n",
    "    text.set_color(color)  # Define el color de la etiqueta de la porción igual al color de la porción\n",
    "    text.set_fontsize(12)\n",
    "    autotext.set_color(BLANCO)  # Define el color de los porcentajes como blanco\n",
    "    autotext.set_weight('bold')  # Define los porcentajes en negrita\n",
    "    autotext.set_fontsize(12)\n",
    "# Muestra el gráfico\n",
    "plt.show()"
   ]
  },
  {
   "cell_type": "markdown",
   "id": "744306cb",
   "metadata": {},
   "source": []
  }
 ],
 "metadata": {
  "language_info": {
   "name": "python"
  }
 },
 "nbformat": 4,
 "nbformat_minor": 5
}
