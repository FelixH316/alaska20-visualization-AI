{
 "cells": [
  {
   "cell_type": "markdown",
   "id": "4c8946ca",
   "metadata": {},
   "source": [
    "### *1 Prompt - 08 Ajustando el prompt*\n",
    "Juan desea concatenar las bases en una sola, manteniendo solo las columnas con el año, el estado, la región, el PIB, los impuestos líquidos, el valor agregado y el valor agregado de la agropecuaria. Así, Juan creó el siguiente prompt:\n",
    "Crea un código que concatene las bases “pib_estados” y “va_estados” en una única tabla por año y estado, manteniendo las columnas con el año, el estado, la región, el PIB, los impuestos líquidos, el valor agregado y el valor agregado de la agropecuaria."
   ]
  },
  {
   "cell_type": "markdown",
   "id": "f6fa6ba0",
   "metadata": {},
   "source": [
    "### *1 Prompt - 10 Desafío: Zoop Pay*"
   ]
  },
  {
   "cell_type": "code",
   "execution_count": null,
   "id": "932e02df",
   "metadata": {},
   "outputs": [],
   "source": [
    "url_clientes = \"https://gist.githubusercontent.com/ahcamachod/d08898e1cc84c7271856e78d9558ca3d/raw/2f7e1fa53711efe6433a5c5ec79948f600591cb9/clientes_zoop.csv\"\n",
    "url_ventas = \"https://gist.githubusercontent.com/ahcamachod/966d7162a3c3a2769b8770b35abf1bcc/raw/d79941b3fa46a450f3611589abd8663399c1277b/ventas_zoop.csv\"\n",
    "url_zoop_pay = \"https://gist.githubusercontent.com/ahcamachod/ce728231a836a973c0df94a9f03ed871/raw/8db6da43d7cd94fcab937208067d0fceb521b78c/zoop_pay.csv\""
   ]
  },
  {
   "cell_type": "markdown",
   "id": "8bd9707d",
   "metadata": {},
   "source": [
    "#### *Instructor*"
   ]
  },
  {
   "cell_type": "code",
   "execution_count": null,
   "id": "e6cc7755",
   "metadata": {},
   "outputs": [],
   "source": [
    "[\"ID_compra\", \"fecha\", \"hora\", \"categoría\", \"precio_unitario\", \"cantidad\", \"envio\", \"metodo_pago\", \"ID_cliente\", \"edad\", \"sexo_biologico\", \"ciudad\", \"estado\", \"region\", \"cashback\", \"nota\"]"
   ]
  },
  {
   "cell_type": "code",
   "execution_count": null,
   "id": "9af74dd0",
   "metadata": {},
   "outputs": [],
   "source": [
    "import pandas as pd\n",
    "\n",
    "# Ejemplo de cómo cargar los DataFrames, si es necesario:\n",
    "# ventas = pd.read_csv('ruta_al_archivo_de_ventas.csv')\n",
    "# clientes = pd.read_csv('ruta_al_archivo_de_clientes.csv')\n",
    "\n",
    "# Uniendo las bases \"ventas\" y \"clientes\" usando la columna \"ID_compra\" como clave\n",
    "df = pd.merge(ventas, clientes, on=\"ID_compra\")\n",
    "\n",
    "# Organizando las columnas en la secuencia especificada\n",
    "columnas_ordenadas = [\"ID_compra\", \"fecha\", \"hora\", \"categoría\", \"precio_unitario\", \"cantidad\", \"envio\", \"metodo_pago\", \"ID_cliente\", \"edad\", \"sexo_biologico\", \"ciudad\", \"estado\", \"region\", \"cashback\", \"nota\"]\n",
    "\n",
    "df = df[columnas_ordenadas]\n",
    "\n",
    "# Mostrando las primeras filas del DataFrame resultante para verificación\n",
    "df.head()"
   ]
  },
  {
   "cell_type": "code",
   "execution_count": null,
   "id": "89f44401",
   "metadata": {},
   "outputs": [],
   "source": [
    "import pandas as pd\n",
    "\n",
    "# Sustituye url_zoop_pay por la URL real proporcionada para la base zoop_pay\n",
    "zoop_pay = pd.read_csv(url_zoop_pay)\n",
    "\n",
    "# Uniendo el DataFrame df con la base zoop_pay utilizando la columna \"ID_cliente\"\n",
    "df = pd.merge(df, zoop_pay, on=\"ID_cliente\")\n",
    "\n",
    "# Ajustando la columna \"fecha\" al formato datetime\n",
    "df['fecha'] = pd.to_datetime(df['fecha'], format='%Y-%m-%d')\n",
    "\n",
    "# Mostrando las primeras filas del DataFrame resultante para verificación\n",
    "df.head()"
   ]
  },
  {
   "cell_type": "markdown",
   "id": "d91cb2dd",
   "metadata": {},
   "source": [
    "### *2 Visualizando - 07 Respuesta del prompt*\n",
    "\n",
    "panini.csv\n",
    "    https://gist.githubusercontent.com/ahcamachod/c1cef14e116881abab3239822ebe610a/raw/1ba8ff2bb1d5849e5451be125295167dcc3563eb/panini.csv"
   ]
  },
  {
   "cell_type": "code",
   "execution_count": null,
   "id": "5f1b1c46",
   "metadata": {},
   "outputs": [],
   "source": [
    "# CORRECTO A\n",
    "import matplotlib.pyplot as plt\n",
    "\n",
    "df_panini = df[df['producto'] == 'Panini']\n",
    "df_panini['fecha'] = pd.to_datetime(df_panini['fecha'], format='%Y-%m-%d')\n",
    "ventas_por_mes = df_panini.groupby(df_panini['fecha'].dt.to_period('M'))['valor'].sum()\n",
    "plt.figure(figsize=(10, 6))\n",
    "plt.plot(ventas_por_mes.index.to_timestamp(), ventas_por_mes, marker='o', linestyle='-')\n",
    "plt.title('Ventas mensuales de Panini')\n",
    "plt.xlabel('Mes')\n",
    "plt.ylabel('Total de ventas')\n",
    "plt.xticks(ventas_por_mes.index.to_timestamp(), [x.strftime('%b %Y') for x in ventas_por_mes.index.to_timestamp()], rotation=45)\n",
    "plt.grid(True)\n",
    "plt.tight_layout()\n",
    "plt.show()"
   ]
  },
  {
   "cell_type": "code",
   "execution_count": null,
   "id": "76440f8c",
   "metadata": {},
   "outputs": [],
   "source": [
    "# MALO B\n",
    "import matplotlib.pyplot as plt\n",
    "\n",
    "ventas_por_mes = df.groupby(df['fecha'].dt.to_period('M'))['valor'].sum()\n",
    "plt.figure(figsize=(10, 6))\n",
    "plt.barh(ventas_por_mes, width = ventas_por_mes.index.to_timestamp())\n",
    "plt.title('Ventas mensuales de Panini')\n",
    "plt.xlabel('Mes')\n",
    "plt.ylabel('Total de ventas')\n",
    "plt.yticks(ventas_por_mes.index.to_timestamp(), [y.strftime('%b %Y') for y in ventas_por_mes.index.to_timestamp()], rotation=45)\n",
    "plt.grid(True)\n",
    "plt.tight_layout()\n",
    "plt.show()"
   ]
  },
  {
   "cell_type": "code",
   "execution_count": null,
   "id": "950799fb",
   "metadata": {},
   "outputs": [],
   "source": [
    "# MALO C\n",
    "import matplotlib.pyplot as plt\n",
    "\n",
    "df_panini = df[df['producto'] == 'Panini']\n",
    "ventas_por_mes = df_panini.groupby(df_panini['fecha'].dt.to_period('M'))['valor'].sum()\n",
    "\n",
    "plt.figure(figsize=(10, 6))\n",
    "plt.bar(ventas_por_mes.index.to_timestamp(), ventas_por_mes, width=10)\n",
    "plt.title('Ventas mensuales de Panini')\n",
    "plt.xlabel('Mes')\n",
    "plt.ylabel('Total de ventas')\n",
    "plt.xticks(ventas_por_mes.index.to_timestamp(), [x.strftime('%b %Y') for x in ventas_por_mes.index.to_timestamp()], rotation=45)\n",
    "plt.grid(True)\n",
    "plt.tight_layout()\n",
    "plt.show()"
   ]
  },
  {
   "cell_type": "code",
   "execution_count": null,
   "id": "000cbbc0",
   "metadata": {},
   "outputs": [],
   "source": [
    "# MALO D\n",
    "import matplotlib.pyplot as plt\n",
    "\n",
    "ventas_por_mes = df.groupby(df['fecha'].dt.to_period('M'))['valor'].sum()\n",
    "plt.figure(figsize=(10, 6))\n",
    "plt.plot(ventas_por_mes.index.to_timestamp(), ventas_por_mes, marker='o', linestyle='-')\n",
    "plt.title('Ventas mensuales de Panini')\n",
    "plt.xlabel('Mes')\n",
    "plt.ylabel('Total de ventas')\n",
    "plt.xticks(ventas_por_mes.index.to_timestamp(), [x.strftime('%b %Y') for x in ventas_por_mes.index.to_timestamp()], rotation=45)\n",
    "plt.grid(True)\n",
    "plt.tight_layout()\n",
    "plt.show()"
   ]
  },
  {
   "cell_type": "markdown",
   "id": "e9b512ae",
   "metadata": {},
   "source": [
    "### *2 Visualizando 08 Haga lo que hicimos*"
   ]
  },
  {
   "cell_type": "code",
   "execution_count": null,
   "id": "18782b3d",
   "metadata": {},
   "outputs": [],
   "source": [
    "import pandas as pd\n",
    "import matplotlib.pyplot as plt\n",
    "\n",
    "df['facturacion'] = (df['precio_unitario'] * df['cantidad']) + df['envio']\n",
    "df['trimestre'] = df['fecha'].dt.to_period('Q')\n",
    "# Suponiendo que ya tienes el DataFrame df\n",
    "# Filtrar las categorías deseadas\n",
    "categorias_deseadas = [\"Papelería y oficina\", \"Libros\", \"Alimentos y bebidas\"]\n",
    "df_filtrado = df[df['categoria'].isin(categorias_deseadas)]\n",
    "# Pivotar los datos para tener los trimestres como índice y las categorías como columnas\n",
    "pivot_df = df_filtrado.pivot_table(index='trimestre', columns='categoria', values='facturacion', aggfunc='sum')\n",
    "# Crear el gráfico de columnas agrupadas\n",
    "pivot_df.plot(kind='bar', stacked=False, figsize=(10, 6))\n",
    "# Agregar etiquetas y título\n",
    "plt.xlabel('Trimestre')\n",
    "plt.ylabel('Ventas')\n",
    "plt.title('Ventas por Trimestre y Categoría')\n",
    "plt.xticks(rotation=45)  # Rotar las etiquetas del eje x para mejorar la legibilidad\n",
    "# Mostrar el gráfico\n",
    "plt.legend(title='Categoría')\n",
    "plt.tight_layout()\n",
    "plt.show()"
   ]
  },
  {
   "cell_type": "markdown",
   "id": "1f593e44",
   "metadata": {},
   "source": [
    "### *2 Visualizando - 09 Desafío: generando visualizaciones con respecto a la localización*"
   ]
  },
  {
   "cell_type": "markdown",
   "id": "e708ab7b",
   "metadata": {},
   "source": [
    "¿Vamos a practicar lo que aprendimos a partir del DataFrame df que generamos en el ejercicio de Manos a la Obra anterior?\n",
    "\n",
    "Has recibido una nueva demanda de Zoop para generar 2 nuevos visuales, uno relacionado con el perfil de las ventas y el otro con el perfil de los clientes de una región específica. Vamos a observar las dos situaciones y construir, con la ayuda de ChatGPT, los dos gráficos solicitados:\n",
    "\n",
    "Desafío 1:\n",
    "\n",
    "Construye y ejecuta un prompt en ChatGPT para generar, a partir de nuestra base de datos, un visual que muestre el facturación de las ventas por región. Recuerda que aquí la facturación se calcula multiplicando el valor unitario por la cantidad comprada y sumando el costo de envío.\n",
    "\n",
    "Desafío 2:\n",
    "\n",
    "Zoop quiere realizar una campaña en los estados de México y Puebla, por lo que necesita conocer el perfil de su público según el sexo biológico. Construye y ejecuta un prompt en ChatGPT para generar, a partir de nuestra base de datos, un visual que muestre la composición del público por sexo biológico en los estados de México y Puebla. Recuerda pedir que agrupe o apile los datos para la presentación.\n",
    "\n",
    "Si necesitas ayuda, una opción de solución de la actividad estará disponible en la sección “Opinión del instructor”."
   ]
  },
  {
   "cell_type": "markdown",
   "id": "9abe10de",
   "metadata": {},
   "source": [
    "#### *Instructor*\n",
    "Existen diversas formas de solucionar esta actividad. A continuación, presentamos una sugerencia de solución para cada problema.\n",
    "\n",
    "Es importante destacar que, incluso utilizando los prompts sugeridos, el resultado puede variar un poco debido a la aleatoriedad de las IAs generativas cuando utilices tu cuenta.\n",
    "\n",
    "Podemos utilizar el siguiente prompt para la resolución del 1º desafío:"
   ]
  },
  {
   "cell_type": "code",
   "execution_count": null,
   "id": "61776a1b",
   "metadata": {},
   "outputs": [],
   "source": [
    "Tenemos un DataFrame llamado \"df\" y queremos construir una visualización de gráfico de columnas que presente la facturación por región de Zoop.\n",
    "En \"df\", tenemos las siguientes columnas:\n",
    "- region: región del/de la cliente\n",
    "- precio_unitario: precio de una unidad del producto\n",
    "- cantidad: cantidad vendida del producto\n",
    "- envio: el valor del envío a ser pago en el total de la compra.\n",
    "Deseamos crear una visualización que presente la facturación de cada región, donde la facturación se calcula multiplicando el precio unitario por la cantidad y sumando el envío.\n",
    "Utiliza las bibliotecas de visualización de datos de Python para crear esta visualización."
   ]
  },
  {
   "cell_type": "code",
   "execution_count": null,
   "id": "4522d19e",
   "metadata": {},
   "outputs": [],
   "source": [
    "import pandas as pd\n",
    "import matplotlib.pyplot as plt\n",
    "\n",
    "# Suponiendo que df sea tu DataFrame\n",
    "# Calcula la facturación para cada transacción\n",
    "df['facturacion'] = (df['precio_unitario'] * df['cantidad']) + df['envio']\n",
    "\n",
    "# Agrupa los datos por región y suma la facturación\n",
    "facturacion_por_region = df.groupby('region')['facturacion'].sum().reset_index()\n",
    "\n",
    "# Ordena el resultado para una mejor visualización\n",
    "facturacion_por_region = facturacion_por_region.sort_values(by='facturacion', ascending=False)\n",
    "\n",
    "# Creación del gráfico de columnas\n",
    "plt.figure(figsize=(10, 6))  # Ajusta el tamaño del gráfico\n",
    "plt.bar(facturacion_por_region['region'], facturacion_por_region['facturacion'], color='skyblue')  # Grafica barras\n",
    "plt.title('Facturación por Región')  # Añade título al gráfico\n",
    "plt.xlabel('Región')  # Añade etiqueta al eje X\n",
    "plt.ylabel('Facturación')  # Añade etiqueta al eje Y\n",
    "plt.show()  # Muestra el gráfico"
   ]
  },
  {
   "cell_type": "markdown",
   "id": "0fb6928f",
   "metadata": {},
   "source": [
    "Podemos observar que ChatGPT generó un gráfico interesante, aunque sea la 1ª versión, todavía sin instrucciones para ajustar el visual. En este gráfico, tenemos la facturación por región en el año 2023, en orden descendente.\n",
    "\n",
    "Ahora, vamos al 2º desafío, donde necesitamos generar una visualización que muestre el público por sexo biológico en los estados de México y Puebla. Podemos utilizar el siguiente prompt para la resolución de estos procesos:"
   ]
  },
  {
   "cell_type": "code",
   "execution_count": null,
   "id": "71fd8423",
   "metadata": {},
   "outputs": [],
   "source": [
    "Tenemos un DataFrame llamado \"df\" y queremos construir un gráfico de columnas apiladas que presente la cantidad de personas por sexo biológico en relación con los estados de \"México\" y \"Puebla\".\n",
    "\n",
    "En \"df\", tenemos las siguientes columnas:\n",
    "\n",
    "- estado: estado del/de la cliente. Utilizaremos únicamente los estados de \"México\" y \"Puebla\"\n",
    "- sexo_biologico: sexo biológico del/de la cliente\n",
    "\n",
    "Deseamos crear una visualización que presente la cantidad de personas agrupadas por sexo biológico en los estados que definimos.\n",
    "\n",
    "Utiliza las bibliotecas de visualización de datos de Python para crear esta visualización."
   ]
  },
  {
   "cell_type": "code",
   "execution_count": null,
   "id": "443c3d72",
   "metadata": {},
   "outputs": [],
   "source": [
    "import pandas as pd\n",
    "import matplotlib.pyplot as plt\n",
    "\n",
    "# Filtrar el DataFrame para incluir solo los estados de \"México\" y \"Puebla\"\n",
    "df_filtrado = df[df['estado'].isin(['Estado de México', 'Puebla'])]\n",
    "\n",
    "# Contar la cantidad de personas por sexo biológico y estado\n",
    "contagem_por_sexo_e_estado = df_filtrado.groupby(['estado', 'sexo_biologico']).size().unstack(fill_value=0)\n",
    "\n",
    "# Crear el gráfico de columnas apiladas\n",
    "contagem_por_sexo_e_estado.plot(kind='bar', stacked=True, figsize=(10, 6))\n",
    "\n",
    "# Añadir título y etiquetas a los ejes\n",
    "plt.title('Cantidad de Personas por Sexo Biológico en los estados de México y Puebla')\n",
    "plt.xlabel('Estado')\n",
    "plt.ylabel('Cantidad de Personas')\n",
    "plt.xticks(rotation=0)  # Mantén las etiquetas de los estados en horizontal para mejor legibilidad\n",
    "\n",
    "# Mostrar la leyenda y el gráfico\n",
    "plt.legend(title='Sexo Biológico')\n",
    "plt.show()"
   ]
  }
 ],
 "metadata": {
  "language_info": {
   "name": "python"
  }
 },
 "nbformat": 4,
 "nbformat_minor": 5
}
