{
 "cells": [
  {
   "cell_type": "markdown",
   "id": "4c8946ca",
   "metadata": {},
   "source": [
    "### *1 Prompt - 08 Ajustando el prompt*\n",
    "Juan desea concatenar las bases en una sola, manteniendo solo las columnas con el año, el estado, la región, el PIB, los impuestos líquidos, el valor agregado y el valor agregado de la agropecuaria. Así, Juan creó el siguiente prompt:\n",
    "Crea un código que concatene las bases “pib_estados” y “va_estados” en una única tabla por año y estado, manteniendo las columnas con el año, el estado, la región, el PIB, los impuestos líquidos, el valor agregado y el valor agregado de la agropecuaria."
   ]
  },
  {
   "cell_type": "markdown",
   "id": "f6fa6ba0",
   "metadata": {},
   "source": [
    "### *1 Prompt - 10 Desafío: Zoop Pay*"
   ]
  },
  {
   "cell_type": "code",
   "execution_count": null,
   "id": "932e02df",
   "metadata": {},
   "outputs": [],
   "source": [
    "url_clientes = \"https://gist.githubusercontent.com/ahcamachod/d08898e1cc84c7271856e78d9558ca3d/raw/2f7e1fa53711efe6433a5c5ec79948f600591cb9/clientes_zoop.csv\"\n",
    "url_ventas = \"https://gist.githubusercontent.com/ahcamachod/966d7162a3c3a2769b8770b35abf1bcc/raw/d79941b3fa46a450f3611589abd8663399c1277b/ventas_zoop.csv\"\n",
    "url_zoop_pay = \"https://gist.githubusercontent.com/ahcamachod/ce728231a836a973c0df94a9f03ed871/raw/8db6da43d7cd94fcab937208067d0fceb521b78c/zoop_pay.csv\""
   ]
  },
  {
   "cell_type": "markdown",
   "id": "8bd9707d",
   "metadata": {},
   "source": [
    "#### *Instructor*"
   ]
  },
  {
   "cell_type": "code",
   "execution_count": null,
   "id": "e6cc7755",
   "metadata": {},
   "outputs": [],
   "source": [
    "[\"ID_compra\", \"fecha\", \"hora\", \"categoría\", \"precio_unitario\", \"cantidad\", \"envio\", \"metodo_pago\", \"ID_cliente\", \"edad\", \"sexo_biologico\", \"ciudad\", \"estado\", \"region\", \"cashback\", \"nota\"]"
   ]
  },
  {
   "cell_type": "code",
   "execution_count": null,
   "id": "9af74dd0",
   "metadata": {},
   "outputs": [],
   "source": [
    "import pandas as pd\n",
    "\n",
    "# Ejemplo de cómo cargar los DataFrames, si es necesario:\n",
    "# ventas = pd.read_csv('ruta_al_archivo_de_ventas.csv')\n",
    "# clientes = pd.read_csv('ruta_al_archivo_de_clientes.csv')\n",
    "\n",
    "# Uniendo las bases \"ventas\" y \"clientes\" usando la columna \"ID_compra\" como clave\n",
    "df = pd.merge(ventas, clientes, on=\"ID_compra\")\n",
    "\n",
    "# Organizando las columnas en la secuencia especificada\n",
    "columnas_ordenadas = [\"ID_compra\", \"fecha\", \"hora\", \"categoría\", \"precio_unitario\", \"cantidad\", \"envio\", \"metodo_pago\", \"ID_cliente\", \"edad\", \"sexo_biologico\", \"ciudad\", \"estado\", \"region\", \"cashback\", \"nota\"]\n",
    "\n",
    "df = df[columnas_ordenadas]\n",
    "\n",
    "# Mostrando las primeras filas del DataFrame resultante para verificación\n",
    "df.head()"
   ]
  },
  {
   "cell_type": "code",
   "execution_count": null,
   "id": "89f44401",
   "metadata": {},
   "outputs": [],
   "source": [
    "import pandas as pd\n",
    "\n",
    "# Sustituye url_zoop_pay por la URL real proporcionada para la base zoop_pay\n",
    "zoop_pay = pd.read_csv(url_zoop_pay)\n",
    "\n",
    "# Uniendo el DataFrame df con la base zoop_pay utilizando la columna \"ID_cliente\"\n",
    "df = pd.merge(df, zoop_pay, on=\"ID_cliente\")\n",
    "\n",
    "# Ajustando la columna \"fecha\" al formato datetime\n",
    "df['fecha'] = pd.to_datetime(df['fecha'], format='%Y-%m-%d')\n",
    "\n",
    "# Mostrando las primeras filas del DataFrame resultante para verificación\n",
    "df.head()"
   ]
  }
 ],
 "metadata": {
  "language_info": {
   "name": "python"
  }
 },
 "nbformat": 4,
 "nbformat_minor": 5
}
